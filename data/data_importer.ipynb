{
 "cells": [
  {
   "cell_type": "code",
   "execution_count": 34,
   "metadata": {
    "collapsed": true,
    "pycharm": {
     "name": "#%%\n"
    }
   },
   "outputs": [],
   "source": [
    "import pandas as pd"
   ]
  },
  {
   "cell_type": "code",
   "execution_count": 32,
   "outputs": [],
   "source": [
    "df = pd.read_csv(\"books.csv.zip\", on_bad_lines=\"skip\")\n",
    "dates = df.publication_date.str.split(\"/\", expand=True)\n",
    "dates.columns = [\"m\", \"d\", \"y\"]\n",
    "dates = dates.astype(int)\n",
    "dates.d[(dates.m.isin([2, 4, 6, 9, 11])) & (dates.d==31)] = 30\n",
    "dates = pd.to_datetime(dates.apply(\n",
    "\tlambda x: f\"{x.y}-{x.m}-{x.d}\", axis=1\n",
    "), utc=True)\n",
    "df[\"publication_date\"] = dates"
   ],
   "metadata": {
    "collapsed": false,
    "pycharm": {
     "name": "#%%\n"
    }
   }
  },
  {
   "cell_type": "code",
   "execution_count": 36,
   "outputs": [
    {
     "data": {
      "text/plain": "Index(['bookID', 'title', 'authors', 'average_rating', 'isbn', 'isbn13',\n       'language_code', '  num_pages', 'ratings_count', 'text_reviews_count',\n       'publication_date', 'publisher'],\n      dtype='object')"
     },
     "execution_count": 36,
     "metadata": {},
     "output_type": "execute_result"
    }
   ],
   "source": [
    "df.columns"
   ],
   "metadata": {
    "collapsed": false,
    "pycharm": {
     "name": "#%%\n"
    }
   }
  },
  {
   "cell_type": "code",
   "execution_count": 38,
   "outputs": [],
   "source": [
    "df.columns = [x.strip() for x in df.columns]\n"
   ],
   "metadata": {
    "collapsed": false,
    "pycharm": {
     "name": "#%%\n"
    }
   }
  },
  {
   "cell_type": "code",
   "execution_count": 39,
   "outputs": [
    {
     "data": {
      "text/plain": "Index(['bookID', 'title', 'authors', 'average_rating', 'isbn', 'isbn13',\n       'language_code', 'num_pages', 'ratings_count', 'text_reviews_count',\n       'publication_date', 'publisher'],\n      dtype='object')"
     },
     "execution_count": 39,
     "metadata": {},
     "output_type": "execute_result"
    }
   ],
   "source": [
    "df.columns"
   ],
   "metadata": {
    "collapsed": false,
    "pycharm": {
     "name": "#%%\n"
    }
   }
  },
  {
   "cell_type": "code",
   "execution_count": null,
   "outputs": [],
   "source": [],
   "metadata": {
    "collapsed": false,
    "pycharm": {
     "name": "#%%\n"
    }
   }
  }
 ],
 "metadata": {
  "kernelspec": {
   "display_name": "Python 3",
   "language": "python",
   "name": "python3"
  },
  "language_info": {
   "codemirror_mode": {
    "name": "ipython",
    "version": 2
   },
   "file_extension": ".py",
   "mimetype": "text/x-python",
   "name": "python",
   "nbconvert_exporter": "python",
   "pygments_lexer": "ipython2",
   "version": "2.7.6"
  }
 },
 "nbformat": 4,
 "nbformat_minor": 0
}